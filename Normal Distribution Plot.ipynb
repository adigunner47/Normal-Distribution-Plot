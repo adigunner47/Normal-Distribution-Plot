{
  "cells": [
    {
      "cell_type": "code",
      "execution_count": 1,
      "id": "937a2149-e961-4463-9d22-a1cd2607ca67",
      "metadata": {
        "id": "937a2149-e961-4463-9d22-a1cd2607ca67"
      },
      "outputs": [],
      "source": [
        "import numpy as np\n",
        "import matplotlib.pyplot as plt"
      ]
    },
    {
      "cell_type": "code",
      "execution_count": 2,
      "id": "09ec3296-0ac0-4aa2-8f76-ae6364314af5",
      "metadata": {
        "id": "09ec3296-0ac0-4aa2-8f76-ae6364314af5"
      },
      "outputs": [],
      "source": [
        "import math"
      ]
    },
    {
      "cell_type": "code",
      "execution_count": 3,
      "id": "9c761bcb-6f3f-48cf-a826-93adb42630b5",
      "metadata": {
        "id": "9c761bcb-6f3f-48cf-a826-93adb42630b5"
      },
      "outputs": [],
      "source": [
        "input = np.linspace(10, 1000, 50)"
      ]
    },
    {
      "cell_type": "code",
      "source": [
        "\n",
        "input"
      ],
      "metadata": {
        "id": "QDLD-6vRkKmK",
        "outputId": "0dd587d5-2d9d-4663-f807-726b68715cea",
        "colab": {
          "base_uri": "https://localhost:8080/"
        }
      },
      "id": "QDLD-6vRkKmK",
      "execution_count": 4,
      "outputs": [
        {
          "output_type": "execute_result",
          "data": {
            "text/plain": [
              "array([  10.        ,   30.20408163,   50.40816327,   70.6122449 ,\n",
              "         90.81632653,  111.02040816,  131.2244898 ,  151.42857143,\n",
              "        171.63265306,  191.83673469,  212.04081633,  232.24489796,\n",
              "        252.44897959,  272.65306122,  292.85714286,  313.06122449,\n",
              "        333.26530612,  353.46938776,  373.67346939,  393.87755102,\n",
              "        414.08163265,  434.28571429,  454.48979592,  474.69387755,\n",
              "        494.89795918,  515.10204082,  535.30612245,  555.51020408,\n",
              "        575.71428571,  595.91836735,  616.12244898,  636.32653061,\n",
              "        656.53061224,  676.73469388,  696.93877551,  717.14285714,\n",
              "        737.34693878,  757.55102041,  777.75510204,  797.95918367,\n",
              "        818.16326531,  838.36734694,  858.57142857,  878.7755102 ,\n",
              "        898.97959184,  919.18367347,  939.3877551 ,  959.59183673,\n",
              "        979.79591837, 1000.        ])"
            ]
          },
          "metadata": {},
          "execution_count": 4
        }
      ]
    },
    {
      "cell_type": "code",
      "execution_count": 5,
      "id": "8cbec710-fe51-4cb7-8398-9b1a94b4080f",
      "metadata": {
        "id": "8cbec710-fe51-4cb7-8398-9b1a94b4080f"
      },
      "outputs": [],
      "source": [
        "f = lambda x: math.exp(-(x - 500)**2/(2*(250**2)))/math.sqrt(2*math.pi*(250**2))\n",
        "output_pdf_normal_dist = np.vectorize(f)\n",
        "output = np.stack(output_pdf_normal_dist(input))\n"
      ]
    },
    {
      "cell_type": "code",
      "source": [
        "type(output_pdf_normal_dist)"
      ],
      "metadata": {
        "id": "MZBKaSGckgd_",
        "outputId": "62058443-bb6f-4c2b-fd27-5f8f5bef5ad6",
        "colab": {
          "base_uri": "https://localhost:8080/",
          "height": 187
        }
      },
      "id": "MZBKaSGckgd_",
      "execution_count": 6,
      "outputs": [
        {
          "output_type": "execute_result",
          "data": {
            "text/plain": [
              "numpy.vectorize"
            ],
            "text/html": [
              "<div style=\"max-width:800px; border: 1px solid var(--colab-border-color);\"><style>\n",
              "      pre.function-repr-contents {\n",
              "        overflow-x: auto;\n",
              "        padding: 8px 12px;\n",
              "        max-height: 500px;\n",
              "      }\n",
              "\n",
              "      pre.function-repr-contents.function-repr-contents-collapsed {\n",
              "        cursor: pointer;\n",
              "        max-height: 100px;\n",
              "      }\n",
              "    </style>\n",
              "    <pre style=\"white-space: initial; background:\n",
              "         var(--colab-secondary-surface-color); padding: 8px 12px;\n",
              "         border-bottom: 1px solid var(--colab-border-color);\"><b>numpy.vectorize</b><br/>def __call__(*args, **kwargs)</pre><pre class=\"function-repr-contents function-repr-contents-collapsed\" style=\"\"><a class=\"filepath\" style=\"display:none\" href=\"#\">/usr/local/lib/python3.10/dist-packages/numpy/__init__.py</a>vectorize(pyfunc=np._NoValue, otypes=None, doc=None, excluded=None,\n",
              "cache=False, signature=None)\n",
              "\n",
              "Returns an object that acts like pyfunc, but takes arrays as input.\n",
              "\n",
              "Define a vectorized function which takes a nested sequence of objects or\n",
              "numpy arrays as inputs and returns a single numpy array or a tuple of numpy\n",
              "arrays. The vectorized function evaluates `pyfunc` over successive tuples\n",
              "of the input arrays like the python map function, except it uses the\n",
              "broadcasting rules of numpy.\n",
              "\n",
              "The data type of the output of `vectorized` is determined by calling\n",
              "the function with the first element of the input.  This can be avoided\n",
              "by specifying the `otypes` argument.\n",
              "\n",
              "Parameters\n",
              "----------\n",
              "pyfunc : callable, optional\n",
              "    A python function or method.\n",
              "    Can be omitted to produce a decorator with keyword arguments.\n",
              "otypes : str or list of dtypes, optional\n",
              "    The output data type. It must be specified as either a string of\n",
              "    typecode characters or a list of data type specifiers. There should\n",
              "    be one data type specifier for each output.\n",
              "doc : str, optional\n",
              "    The docstring for the function. If None, the docstring will be the\n",
              "    ``pyfunc.__doc__``.\n",
              "excluded : set, optional\n",
              "    Set of strings or integers representing the positional or keyword\n",
              "    arguments for which the function will not be vectorized.  These will be\n",
              "    passed directly to `pyfunc` unmodified.\n",
              "\n",
              "    .. versionadded:: 1.7.0\n",
              "\n",
              "cache : bool, optional\n",
              "    If `True`, then cache the first function call that determines the number\n",
              "    of outputs if `otypes` is not provided.\n",
              "\n",
              "    .. versionadded:: 1.7.0\n",
              "\n",
              "signature : string, optional\n",
              "    Generalized universal function signature, e.g., ``(m,n),(n)-&gt;(m)`` for\n",
              "    vectorized matrix-vector multiplication. If provided, ``pyfunc`` will\n",
              "    be called with (and expected to return) arrays with shapes given by the\n",
              "    size of corresponding core dimensions. By default, ``pyfunc`` is\n",
              "    assumed to take scalars as input and output.\n",
              "\n",
              "    .. versionadded:: 1.12.0\n",
              "\n",
              "Returns\n",
              "-------\n",
              "out : callable\n",
              "    A vectorized function if ``pyfunc`` was provided,\n",
              "    a decorator otherwise.\n",
              "\n",
              "See Also\n",
              "--------\n",
              "frompyfunc : Takes an arbitrary Python function and returns a ufunc\n",
              "\n",
              "Notes\n",
              "-----\n",
              "The `vectorize` function is provided primarily for convenience, not for\n",
              "performance. The implementation is essentially a for loop.\n",
              "\n",
              "If `otypes` is not specified, then a call to the function with the\n",
              "first argument will be used to determine the number of outputs.  The\n",
              "results of this call will be cached if `cache` is `True` to prevent\n",
              "calling the function twice.  However, to implement the cache, the\n",
              "original function must be wrapped which will slow down subsequent\n",
              "calls, so only do this if your function is expensive.\n",
              "\n",
              "The new keyword argument interface and `excluded` argument support\n",
              "further degrades performance.\n",
              "\n",
              "References\n",
              "----------\n",
              ".. [1] :doc:`/reference/c-api/generalized-ufuncs`\n",
              "\n",
              "Examples\n",
              "--------\n",
              "&gt;&gt;&gt; def myfunc(a, b):\n",
              "...     &quot;Return a-b if a&gt;b, otherwise return a+b&quot;\n",
              "...     if a &gt; b:\n",
              "...         return a - b\n",
              "...     else:\n",
              "...         return a + b\n",
              "\n",
              "&gt;&gt;&gt; vfunc = np.vectorize(myfunc)\n",
              "&gt;&gt;&gt; vfunc([1, 2, 3, 4], 2)\n",
              "array([3, 4, 1, 2])\n",
              "\n",
              "The docstring is taken from the input function to `vectorize` unless it\n",
              "is specified:\n",
              "\n",
              "&gt;&gt;&gt; vfunc.__doc__\n",
              "&#x27;Return a-b if a&gt;b, otherwise return a+b&#x27;\n",
              "&gt;&gt;&gt; vfunc = np.vectorize(myfunc, doc=&#x27;Vectorized `myfunc`&#x27;)\n",
              "&gt;&gt;&gt; vfunc.__doc__\n",
              "&#x27;Vectorized `myfunc`&#x27;\n",
              "\n",
              "The output type is determined by evaluating the first element of the input,\n",
              "unless it is specified:\n",
              "\n",
              "&gt;&gt;&gt; out = vfunc([1, 2, 3, 4], 2)\n",
              "&gt;&gt;&gt; type(out[0])\n",
              "&lt;class &#x27;numpy.int64&#x27;&gt;\n",
              "&gt;&gt;&gt; vfunc = np.vectorize(myfunc, otypes=[float])\n",
              "&gt;&gt;&gt; out = vfunc([1, 2, 3, 4], 2)\n",
              "&gt;&gt;&gt; type(out[0])\n",
              "&lt;class &#x27;numpy.float64&#x27;&gt;\n",
              "\n",
              "The `excluded` argument can be used to prevent vectorizing over certain\n",
              "arguments.  This can be useful for array-like arguments of a fixed length\n",
              "such as the coefficients for a polynomial as in `polyval`:\n",
              "\n",
              "&gt;&gt;&gt; def mypolyval(p, x):\n",
              "...     _p = list(p)\n",
              "...     res = _p.pop(0)\n",
              "...     while _p:\n",
              "...         res = res*x + _p.pop(0)\n",
              "...     return res\n",
              "&gt;&gt;&gt; vpolyval = np.vectorize(mypolyval, excluded=[&#x27;p&#x27;])\n",
              "&gt;&gt;&gt; vpolyval(p=[1, 2, 3], x=[0, 1])\n",
              "array([3, 6])\n",
              "\n",
              "Positional arguments may also be excluded by specifying their position:\n",
              "\n",
              "&gt;&gt;&gt; vpolyval.excluded.add(0)\n",
              "&gt;&gt;&gt; vpolyval([1, 2, 3], x=[0, 1])\n",
              "array([3, 6])\n",
              "\n",
              "The `signature` argument allows for vectorizing functions that act on\n",
              "non-scalar arrays of fixed length. For example, you can use it for a\n",
              "vectorized calculation of Pearson correlation coefficient and its p-value:\n",
              "\n",
              "&gt;&gt;&gt; import scipy.stats\n",
              "&gt;&gt;&gt; pearsonr = np.vectorize(scipy.stats.pearsonr,\n",
              "...                 signature=&#x27;(n),(n)-&gt;(),()&#x27;)\n",
              "&gt;&gt;&gt; pearsonr([[0, 1, 2, 3]], [[1, 2, 3, 4], [4, 3, 2, 1]])\n",
              "(array([ 1., -1.]), array([ 0.,  0.]))\n",
              "\n",
              "Or for a vectorized convolution:\n",
              "\n",
              "&gt;&gt;&gt; convolve = np.vectorize(np.convolve, signature=&#x27;(n),(m)-&gt;(k)&#x27;)\n",
              "&gt;&gt;&gt; convolve(np.eye(4), [1, 2, 1])\n",
              "array([[1., 2., 1., 0., 0., 0.],\n",
              "       [0., 1., 2., 1., 0., 0.],\n",
              "       [0., 0., 1., 2., 1., 0.],\n",
              "       [0., 0., 0., 1., 2., 1.]])\n",
              "\n",
              "Decorator syntax is supported.  The decorator can be called as\n",
              "a function to provide keyword arguments.\n",
              "&gt;&gt;&gt;@np.vectorize\n",
              "...def identity(x):\n",
              "...    return x\n",
              "...\n",
              "&gt;&gt;&gt;identity([0, 1, 2])\n",
              "array([0, 1, 2])\n",
              "&gt;&gt;&gt;@np.vectorize(otypes=[float])\n",
              "...def as_float(x):\n",
              "...    return x\n",
              "...\n",
              "&gt;&gt;&gt;as_float([0, 1, 2])\n",
              "array([0., 1., 2.])</pre>\n",
              "      <script>\n",
              "      if (google.colab.kernel.accessAllowed && google.colab.files && google.colab.files.view) {\n",
              "        for (const element of document.querySelectorAll('.filepath')) {\n",
              "          element.style.display = 'block'\n",
              "          element.onclick = (event) => {\n",
              "            event.preventDefault();\n",
              "            event.stopPropagation();\n",
              "            google.colab.files.view(element.textContent, None);\n",
              "          };\n",
              "        }\n",
              "      }\n",
              "      for (const element of document.querySelectorAll('.function-repr-contents')) {\n",
              "        element.onclick = (event) => {\n",
              "          event.preventDefault();\n",
              "          event.stopPropagation();\n",
              "          element.classList.toggle('function-repr-contents-collapsed');\n",
              "        };\n",
              "      }\n",
              "      </script>\n",
              "      </div>"
            ]
          },
          "metadata": {},
          "execution_count": 6
        }
      ]
    },
    {
      "cell_type": "code",
      "execution_count": 7,
      "id": "7463638d-8844-4844-9015-5eb769a37257",
      "metadata": {
        "id": "7463638d-8844-4844-9015-5eb769a37257",
        "outputId": "89c578d1-1f4b-4eb4-f615-151ff64829bb",
        "colab": {
          "base_uri": "https://localhost:8080/",
          "height": 447
        }
      },
      "outputs": [
        {
          "output_type": "execute_result",
          "data": {
            "text/plain": [
              "[<matplotlib.lines.Line2D at 0x7ea8104e0a00>]"
            ]
          },
          "metadata": {},
          "execution_count": 7
        },
        {
          "output_type": "display_data",
          "data": {
            "text/plain": [
              "<Figure size 640x480 with 1 Axes>"
            ],
            "image/png": "[encoded data removed]"
          },
          "metadata": {}
        }
      ],
      "source": [
        "plt.plot(input, output)"
      ]
    },
    {
      "cell_type": "code",
      "execution_count": null,
      "id": "27439b46-6439-4b13-83a4-cb83e4b22484",
      "metadata": {
        "id": "27439b46-6439-4b13-83a4-cb83e4b22484"
      },
      "outputs": [],
      "source": []
    },
    {
      "cell_type": "code",
      "execution_count": null,
      "id": "6b24dc61-eed6-4736-a76e-e2234acbae53",
      "metadata": {
        "id": "6b24dc61-eed6-4736-a76e-e2234acbae53"
      },
      "outputs": [],
      "source": []
    },
    {
      "cell_type": "code",
      "execution_count": null,
      "id": "afe985b4-640a-4103-97d7-13e1b1de4a65",
      "metadata": {
        "id": "afe985b4-640a-4103-97d7-13e1b1de4a65"
      },
      "outputs": [],
      "source": []
    }
  ],
  "metadata": {
    "kernelspec": {
      "display_name": "Python 3 (ipykernel)",
      "language": "python",
      "name": "python3"
    },
    "language_info": {
      "codemirror_mode": {
        "name": "ipython",
        "version": 3
      },
      "file_extension": ".py",
      "mimetype": "text/x-python",
      "name": "python",
      "nbconvert_exporter": "python",
      "pygments_lexer": "ipython3",
      "version": "3.12.3"
    },
    "colab": {
      "provenance": []
    }
  },
  "nbformat": 4,
  "nbformat_minor": 5
}